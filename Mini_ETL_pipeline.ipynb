{
  "nbformat": 4,
  "nbformat_minor": 0,
  "metadata": {
    "colab": {
      "provenance": []
    },
    "kernelspec": {
      "name": "python3",
      "display_name": "Python 3"
    },
    "language_info": {
      "name": "python"
    }
  },
  "cells": [
    {
      "cell_type": "code",
      "execution_count": 123,
      "metadata": {
        "id": "4luzr-YhALS2"
      },
      "outputs": [],
      "source": [
        "import requests as re\n",
        "import pandas as pd\n",
        "from sqlalchemy import create_engine"
      ]
    },
    {
      "cell_type": "code",
      "source": [
        "def extract():\n",
        "  API=\"http://universities.hipolabs.com/search?country=United+States\"\n",
        "  data=re.get(API).json()\n",
        "  return data\n",
        "\n",
        "\n",
        "def transform(data):\n",
        "  df=pd.DataFrame(data)\n",
        "  df.to_csv(\"universities.csv\") # reading csv file\n",
        "  df=pd.read_csv(\"/content/universities.csv\")\n",
        "  df.drop([\"Unnamed: 0\",\"state-province\"],axis=1,inplace=True)\n",
        "  web_pages=[]\n",
        "  Domains=[]\n",
        "  domains=df[\"domains\"]\n",
        "  webpages=df[\"web_pages\"]\n",
        "  for i in range(len(webpages)):\n",
        "    web_pages.append(webpages[i][2:-2])\n",
        "    Domains.append(domains[i][2:-2])\n",
        "  df.drop([\"web_pages\",\"domains\"],inplace=True,axis=1)\n",
        "  df[\"Web Pages\"]=web_pages\n",
        "  df[\"Domains\"]=Domains\n",
        "  return df\n",
        "\n",
        "\n",
        "def load(df):\n",
        "  disk_engine = create_engine('sqlite:///University_database.db') # database name is University_database.db\n",
        "  df.to_sql('Universities', disk_engine, if_exists='replace')  #table name is UNiversities\n",
        "\n",
        "\n",
        "\n",
        "#initializing the pipeline\n",
        "data=extract()\n",
        "transformed_data=transform(data)\n",
        "load(transformed_data)"
      ],
      "metadata": {
        "id": "jS2Dj8p2AjSh"
      },
      "execution_count": 124,
      "outputs": []
    }
  ]
}